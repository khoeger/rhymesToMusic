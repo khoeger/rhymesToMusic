{
 "cells": [
  {
   "cell_type": "markdown",
   "metadata": {},
   "source": [
    "# Alpabet-phonemes by Frequency \n",
    "\n",
    "## Goal \n",
    "\n",
    "Which alpabet-phonemes occur most commonly in the input text file? Create a dictionary outputting the occuring phoenemes and their frequencies. \n",
    "\n",
    "## Process sketch\n",
    "* Setup\n",
    "    * Imports\n",
    "    * Path strings\n",
    "    * Empty Phoneme dictionary\n",
    "* Text to alpabet-phonemes\n",
    "    * Read in text file\n",
    "    * Tokenize data\n",
    "    * Extract phoneme list from tokenized data\n",
    "    * Make a list of one phoneme set per word\n",
    "        * Determine best alpabet-phoneme if have multiple\n",
    "            * now    -> take first\n",
    "            * future -> take best\n",
    "        * missing alpabet-phonemes (words)\n",
    "            * now    -> remove\n",
    "            * future -> add to CMU-dict\n",
    "            * future -> add in yourself \n",
    "        * skip punctuations\n",
    "     * For each phoneme set\n",
    "         * For each entry\n",
    "             * get the phoneme, without numbers\n",
    "             * if the phoneme is a key in the dictionary\n",
    "                 * +1 value\n",
    "             * if the phoneme is not a key in the dictionary\n",
    "                 * add phoneme as key\n",
    "                 * value = 1\n",
    " * Create Function That Outputs Alpabet-Phoneme Dictionary from text"
   ]
  },
  {
   "cell_type": "code",
   "execution_count": null,
   "metadata": {
    "collapsed": true
   },
   "outputs": [],
   "source": []
  }
 ],
 "metadata": {
  "kernelspec": {
   "display_name": "Python 3",
   "language": "python",
   "name": "python3"
  },
  "language_info": {
   "codemirror_mode": {
    "name": "ipython",
    "version": 3
   },
   "file_extension": ".py",
   "mimetype": "text/x-python",
   "name": "python",
   "nbconvert_exporter": "python",
   "pygments_lexer": "ipython3",
   "version": "3.5.3"
  }
 },
 "nbformat": 4,
 "nbformat_minor": 2
}
