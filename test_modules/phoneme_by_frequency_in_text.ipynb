{
 "cells": [
  {
   "cell_type": "markdown",
   "metadata": {},
   "source": [
    "# Alpabet-phonemes by Frequency \n",
    "\n",
    "## Planning\n",
    "\n",
    "### Goal \n",
    "\n",
    "Which alpabet-phonemes occur most commonly in the input text file? Create a dictionary outputting the occuring phoenemes and their frequencies. \n",
    "\n",
    "### Process sketch\n",
    "* Setup\n",
    "    * Imports\n",
    "    * Path strings\n",
    "    * Empty Phoneme dictionary\n",
    "* Text to alpabet-phonemes\n",
    "    * Read in text file\n",
    "    * Tokenize data\n",
    "    * Extract phoneme list from tokenized data\n",
    "    * Make a list of one phoneme set per word\n",
    "        * Determine best alpabet-phoneme if have multiple\n",
    "            * now    -> take first\n",
    "            * future -> take best\n",
    "        * missing alpabet-phonemes (words)\n",
    "            * now    -> remove\n",
    "            * future -> add to CMU-dict\n",
    "            * future -> add in yourself \n",
    "        * skip punctuations\n",
    "     * For each phoneme set\n",
    "         * For each entry\n",
    "             * get the phoneme, without numbers\n",
    "             * if the phoneme is a key in the dictionary\n",
    "                 * +1 value\n",
    "             * if the phoneme is not a key in the dictionary\n",
    "                 * add phoneme as key\n",
    "                 * value = 1\n",
    " * Create Function That Outputs Alpabet-Phoneme Dictionary from text"
   ]
  },
  {
   "cell_type": "markdown",
   "metadata": {},
   "source": [
    "## Setup"
   ]
  },
  {
   "cell_type": "markdown",
   "metadata": {},
   "source": [
    "### Imports"
   ]
  },
  {
   "cell_type": "code",
   "execution_count": 1,
   "metadata": {
    "collapsed": true
   },
   "outputs": [],
   "source": [
    "#import nltk\n",
    "from nltk.corpus import cmudict\n",
    "from nltk.tokenize import TweetTokenizer\n",
    "import re"
   ]
  },
  {
   "cell_type": "markdown",
   "metadata": {},
   "source": [
    "### Useful Strings"
   ]
  },
  {
   "cell_type": "code",
   "execution_count": 35,
   "metadata": {
    "collapsed": true
   },
   "outputs": [],
   "source": [
    "folderPath = \"C:\\\\Users\\\\katar\\\\Documents\\\\2017\\\\computerMusic\\\\projects\\\\rhymesToMusic\\\\\"\n",
    "sourceName = \"test_modules\\\\sample_input\\\\raven.txt\"\n",
    "s2 = \"~\\\\sample_input\\\\flawless.txt\"#raven.txt\""
   ]
  },
  {
   "cell_type": "markdown",
   "metadata": {},
   "source": [
    "### Initializations"
   ]
  },
  {
   "cell_type": "code",
   "execution_count": 40,
   "metadata": {
    "collapsed": true
   },
   "outputs": [],
   "source": [
    "cmuDict = cmudict.dict()\n",
    "\n",
    "tknzr = TweetTokenizer()\n",
    "\n",
    "phonemeFreqDict = {}\n",
    "\n",
    "inputFile = s2#folderPath + sourceName"
   ]
  },
  {
   "cell_type": "markdown",
   "metadata": {},
   "source": [
    "## Helper Functions"
   ]
  },
  {
   "cell_type": "code",
   "execution_count": 41,
   "metadata": {
    "collapsed": true
   },
   "outputs": [],
   "source": [
    "def loadFile(inputFile):\n",
    "    with open(file=inputFile, mode='r', encoding='utf-8') as inputText:\n",
    "    #with open(file=inputFile, mode='r') as inputText:\n",
    "        read_data = inputText.read()\n",
    "        return(read_data)"
   ]
  },
  {
   "cell_type": "markdown",
   "metadata": {},
   "source": [
    "## Final"
   ]
  },
  {
   "cell_type": "code",
   "execution_count": 42,
   "metadata": {},
   "outputs": [
    {
     "name": "stdout",
     "output_type": "stream",
     "text": [
      "~\\sample_input\\flawless.txt\n"
     ]
    }
   ],
   "source": [
    "\n",
    "print(inputFile)"
   ]
  },
  {
   "cell_type": "code",
   "execution_count": 43,
   "metadata": {},
   "outputs": [
    {
     "ename": "FileNotFoundError",
     "evalue": "[Errno 2] No such file or directory: '~\\\\sample_input\\\\flawless.txt'",
     "output_type": "error",
     "traceback": [
      "\u001b[1;31m---------------------------------------------------------------------------\u001b[0m",
      "\u001b[1;31mFileNotFoundError\u001b[0m                         Traceback (most recent call last)",
      "\u001b[1;32m<ipython-input-43-3170f0b169b6>\u001b[0m in \u001b[0;36m<module>\u001b[1;34m()\u001b[0m\n\u001b[1;32m----> 1\u001b[1;33m \u001b[0mloadFile\u001b[0m\u001b[1;33m(\u001b[0m\u001b[0minputFile\u001b[0m\u001b[1;33m)\u001b[0m\u001b[1;33m\u001b[0m\u001b[0m\n\u001b[0m",
      "\u001b[1;32m<ipython-input-41-53acc5fcde08>\u001b[0m in \u001b[0;36mloadFile\u001b[1;34m(inputFile)\u001b[0m\n\u001b[0;32m      1\u001b[0m \u001b[1;32mdef\u001b[0m \u001b[0mloadFile\u001b[0m\u001b[1;33m(\u001b[0m\u001b[0minputFile\u001b[0m\u001b[1;33m)\u001b[0m\u001b[1;33m:\u001b[0m\u001b[1;33m\u001b[0m\u001b[0m\n\u001b[1;32m----> 2\u001b[1;33m     \u001b[1;32mwith\u001b[0m \u001b[0mopen\u001b[0m\u001b[1;33m(\u001b[0m\u001b[0mfile\u001b[0m\u001b[1;33m=\u001b[0m\u001b[0minputFile\u001b[0m\u001b[1;33m,\u001b[0m \u001b[0mmode\u001b[0m\u001b[1;33m=\u001b[0m\u001b[1;34m'r'\u001b[0m\u001b[1;33m,\u001b[0m \u001b[0mencoding\u001b[0m\u001b[1;33m=\u001b[0m\u001b[1;34m'utf-8'\u001b[0m\u001b[1;33m)\u001b[0m \u001b[1;32mas\u001b[0m \u001b[0minputText\u001b[0m\u001b[1;33m:\u001b[0m\u001b[1;33m\u001b[0m\u001b[0m\n\u001b[0m\u001b[0;32m      3\u001b[0m     \u001b[1;31m#with open(file=inputFile, mode='r') as inputText:\u001b[0m\u001b[1;33m\u001b[0m\u001b[1;33m\u001b[0m\u001b[0m\n\u001b[0;32m      4\u001b[0m         \u001b[0mread_data\u001b[0m \u001b[1;33m=\u001b[0m \u001b[0minputText\u001b[0m\u001b[1;33m.\u001b[0m\u001b[0mread\u001b[0m\u001b[1;33m(\u001b[0m\u001b[1;33m)\u001b[0m\u001b[1;33m\u001b[0m\u001b[0m\n\u001b[0;32m      5\u001b[0m         \u001b[1;32mreturn\u001b[0m\u001b[1;33m(\u001b[0m\u001b[0mread_data\u001b[0m\u001b[1;33m)\u001b[0m\u001b[1;33m\u001b[0m\u001b[0m\n",
      "\u001b[1;31mFileNotFoundError\u001b[0m: [Errno 2] No such file or directory: '~\\\\sample_input\\\\flawless.txt'"
     ]
    }
   ],
   "source": [
    "loadFile(inputFile)"
   ]
  }
 ],
 "metadata": {
  "kernelspec": {
   "display_name": "Python 3",
   "language": "python",
   "name": "python3"
  },
  "language_info": {
   "codemirror_mode": {
    "name": "ipython",
    "version": 3
   },
   "file_extension": ".py",
   "mimetype": "text/x-python",
   "name": "python",
   "nbconvert_exporter": "python",
   "pygments_lexer": "ipython3",
   "version": "3.5.3"
  }
 },
 "nbformat": 4,
 "nbformat_minor": 2
}
