{
 "cells": [
  {
   "cell_type": "markdown",
   "metadata": {},
   "source": [
    "# Alpabet-phonemes by Frequency \n",
    "\n",
    "## Planning\n",
    "\n",
    "### Goal \n",
    "\n",
    "Which alpabet-phonemes occur most commonly in the input text file? Create a dictionary outputting the occuring phoenemes and their frequencies. \n",
    "\n",
    "### Process sketch\n",
    "* Setup\n",
    "    * Imports\n",
    "    * Path strings\n",
    "    * Empty Phoneme dictionary\n",
    "* Text to alpabet-phonemes\n",
    "    * Read in text file\n",
    "    * Tokenize data\n",
    "    * Extract phoneme list from tokenized data\n",
    "    * Make a list of one phoneme set per word\n",
    "        * Determine best alpabet-phoneme if have multiple\n",
    "            * now    -> take first\n",
    "            * future -> take best\n",
    "        * missing alpabet-phonemes (words)\n",
    "            * now    -> remove\n",
    "            * future -> add to CMU-dict\n",
    "            * future -> add in yourself \n",
    "        * skip punctuations\n",
    "     * For each phoneme set\n",
    "         * For each entry\n",
    "             * get the phoneme, without numbers\n",
    "             * if the phoneme is a key in the dictionary\n",
    "                 * +1 value\n",
    "             * if the phoneme is not a key in the dictionary\n",
    "                 * add phoneme as key\n",
    "                 * value = 1\n",
    " * Create Function That Outputs Alpabet-Phoneme Dictionary from text"
   ]
  },
  {
   "cell_type": "markdown",
   "metadata": {},
   "source": [
    "## Setup"
   ]
  },
  {
   "cell_type": "markdown",
   "metadata": {},
   "source": [
    "### Imports"
   ]
  },
  {
   "cell_type": "code",
   "execution_count": 2,
   "metadata": {
    "collapsed": true
   },
   "outputs": [],
   "source": [
    "#import nltk\n",
    "from nltk.corpus import cmudict\n",
    "from nltk.tokenize import TweetTokenizer\n",
    "import re"
   ]
  },
  {
   "cell_type": "markdown",
   "metadata": {},
   "source": [
    "### Useful Strings"
   ]
  },
  {
   "cell_type": "code",
   "execution_count": 8,
   "metadata": {
    "collapsed": true
   },
   "outputs": [],
   "source": [
    "folderPath = \"C:\\\\Users\\\\katar\\\\Documents\\\\2017\\\\computerMusic\\\\projects\\\\rhymesToMusic\\\\\"\n",
    "sourceName = \"test_modules\\\\sample_input\\\\raven.txt\""
   ]
  },
  {
   "cell_type": "markdown",
   "metadata": {},
   "source": [
    "### Initializations"
   ]
  },
  {
   "cell_type": "code",
   "execution_count": 9,
   "metadata": {
    "collapsed": true
   },
   "outputs": [],
   "source": [
    "cmuDict = cmudict.dict()\n",
    "\n",
    "tknzr = TweetTokenizer()\n",
    "\n",
    "phonemeFreqDict = {}\n",
    "\n",
    "inputFile = folderPath + sourceName"
   ]
  },
  {
   "cell_type": "markdown",
   "metadata": {},
   "source": [
    "## Helper Functions"
   ]
  },
  {
   "cell_type": "code",
   "execution_count": 15,
   "metadata": {},
   "outputs": [],
   "source": [
    "def loadFile(inputFile):\n",
    "    with open(file=inputFile, mode='r', encoding='uft-8') as inputText:\n",
    "        read_data = inputText.read()\n",
    "        return(read_data)"
   ]
  },
  {
   "cell_type": "markdown",
   "metadata": {},
   "source": [
    "## Final"
   ]
  },
  {
   "cell_type": "code",
   "execution_count": 16,
   "metadata": {},
   "outputs": [
    {
     "ename": "FileNotFoundError",
     "evalue": "[Errno 2] No such file or directory: 'C:\\\\Users\\\\katar\\\\Documents\\\\2017\\\\computerMusic\\\\projects\\\\rhymesToMusic\\\\test_modules\\\\sample_input\\\\raven.txt'",
     "output_type": "error",
     "traceback": [
      "\u001b[1;31m---------------------------------------------------------------------------\u001b[0m",
      "\u001b[1;31mFileNotFoundError\u001b[0m                         Traceback (most recent call last)",
      "\u001b[1;32m<ipython-input-16-f0f0183e458f>\u001b[0m in \u001b[0;36m<module>\u001b[1;34m()\u001b[0m\n\u001b[1;32m----> 1\u001b[1;33m \u001b[0mpoem\u001b[0m \u001b[1;33m=\u001b[0m \u001b[0mloadFile\u001b[0m\u001b[1;33m(\u001b[0m\u001b[0minputFile\u001b[0m\u001b[1;33m)\u001b[0m\u001b[1;33m\u001b[0m\u001b[0m\n\u001b[0m",
      "\u001b[1;32m<ipython-input-15-890746e80f6e>\u001b[0m in \u001b[0;36mloadFile\u001b[1;34m(inputFile)\u001b[0m\n\u001b[0;32m      1\u001b[0m \u001b[1;32mdef\u001b[0m \u001b[0mloadFile\u001b[0m\u001b[1;33m(\u001b[0m\u001b[0minputFile\u001b[0m\u001b[1;33m)\u001b[0m\u001b[1;33m:\u001b[0m\u001b[1;33m\u001b[0m\u001b[0m\n\u001b[1;32m----> 2\u001b[1;33m     \u001b[1;32mwith\u001b[0m \u001b[0mopen\u001b[0m\u001b[1;33m(\u001b[0m\u001b[0mfile\u001b[0m\u001b[1;33m=\u001b[0m\u001b[0minputFile\u001b[0m\u001b[1;33m,\u001b[0m \u001b[0mmode\u001b[0m\u001b[1;33m=\u001b[0m\u001b[1;34m'r'\u001b[0m\u001b[1;33m,\u001b[0m \u001b[0mencoding\u001b[0m\u001b[1;33m=\u001b[0m\u001b[1;34m'uft-8'\u001b[0m\u001b[1;33m)\u001b[0m \u001b[1;32mas\u001b[0m \u001b[0minputText\u001b[0m\u001b[1;33m:\u001b[0m\u001b[1;33m\u001b[0m\u001b[0m\n\u001b[0m\u001b[0;32m      3\u001b[0m         \u001b[0mread_data\u001b[0m \u001b[1;33m=\u001b[0m \u001b[0minputText\u001b[0m\u001b[1;33m.\u001b[0m\u001b[0mread\u001b[0m\u001b[1;33m(\u001b[0m\u001b[1;33m)\u001b[0m\u001b[1;33m\u001b[0m\u001b[0m\n\u001b[0;32m      4\u001b[0m         \u001b[1;32mreturn\u001b[0m\u001b[1;33m(\u001b[0m\u001b[0mread_data\u001b[0m\u001b[1;33m)\u001b[0m\u001b[1;33m\u001b[0m\u001b[0m\n",
      "\u001b[1;31mFileNotFoundError\u001b[0m: [Errno 2] No such file or directory: 'C:\\\\Users\\\\katar\\\\Documents\\\\2017\\\\computerMusic\\\\projects\\\\rhymesToMusic\\\\test_modules\\\\sample_input\\\\raven.txt'"
     ]
    }
   ],
   "source": [
    "poem = loadFile(inputFile)"
   ]
  },
  {
   "cell_type": "code",
   "execution_count": null,
   "metadata": {
    "collapsed": true
   },
   "outputs": [],
   "source": []
  }
 ],
 "metadata": {
  "kernelspec": {
   "display_name": "Python 3",
   "language": "python",
   "name": "python3"
  },
  "language_info": {
   "codemirror_mode": {
    "name": "ipython",
    "version": 3
   },
   "file_extension": ".py",
   "mimetype": "text/x-python",
   "name": "python",
   "nbconvert_exporter": "python",
   "pygments_lexer": "ipython3",
   "version": "3.5.3"
  }
 },
 "nbformat": 4,
 "nbformat_minor": 2
}
