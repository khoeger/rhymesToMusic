{
 "cells": [
  {
   "cell_type": "markdown",
   "metadata": {},
   "source": [
    "# Project Musicode Notes"
   ]
  },
  {
   "cell_type": "markdown",
   "metadata": {},
   "source": [
    "## Goal\n",
    "Code input notes/letters as music.\n",
    "\n",
    "This is a basic process used to take a single unit of input, map it to a particular note, and generate a melody using the music21 python library. \n",
    "\n",
    "This code takes in an input text file, coded in UTF-8, and outputs a melody line. \n",
    "\n",
    "## Process\n",
    "* All imports, construction of helpers, etc.\n",
    "* Write a dictionary correlating a letter with a pitch\n",
    "* Write a functions that\n",
    "    * look up note pitch\n",
    "    * determine note duration\n",
    "    * determine measures\n",
    "    * makes notes with this\n",
    "* Initialize a stream\n",
    "* Read in the note/letter string\n",
    "* Clean note/letter string\n",
    "* For each character in the note/letter\n",
    "    * create a note/rest instance with the correct pitch/duration\n",
    "    * add it to the stream\n",
    "* export the stream as a midi file"
   ]
  },
  {
   "cell_type": "markdown",
   "metadata": {},
   "source": [
    "## Code\n",
    "\n",
    "### Setup\n",
    "\n",
    "#### Imports"
   ]
  },
  {
   "cell_type": "code",
   "execution_count": 42,
   "metadata": {
    "collapsed": true
   },
   "outputs": [],
   "source": [
    "import music21 as mus"
   ]
  },
  {
   "cell_type": "markdown",
   "metadata": {},
   "source": [
    "#### Map Musical Note to Smallest Unit\n",
    "\n",
    "The letters in the dictionary are listed in the order of most to least frequent in the use of the specified language. The notes mapped next to them are listed in the guessed order of most to least frequent. "
   ]
  },
  {
   "cell_type": "code",
   "execution_count": 43,
   "metadata": {
    "collapsed": true
   },
   "outputs": [],
   "source": [
    "englishToNote = { # C Major (root c4), English, Frequency,\n",
    "    'e':'C4',\n",
    "    'a':'E4',\n",
    "    'r':'G4',\n",
    "    'i':'B4',\n",
    "    'o':'D4',\n",
    "    't':'F4',\n",
    "    'n':'A4',\n",
    "    's':'C5',\n",
    "    'l':'B3',\n",
    "    'c':'A3',\n",
    "    'u':'F3',\n",
    "    'd':'E5',\n",
    "    'p':'G5',\n",
    "    'm':'G3',\n",
    "    'h':'C3',\n",
    "    'g':'D3',\n",
    "    'b':'E3',\n",
    "    'f':'D5',\n",
    "    'y':'F5',\n",
    "    'w':'A5',\n",
    "    'k':'B5',\n",
    "    'v':'C6',\n",
    "    'x':'B2',\n",
    "    'z':'A2',\n",
    "    'j':'F2',\n",
    "    'q':'E6'\n",
    "}\n",
    "\n",
    "germanToNote = { # C Major (root c4), German, Frequency,\n",
    "    'e':'C4',\n",
    "    'n':'E4',\n",
    "    'i':'G4',\n",
    "    's':'B4',\n",
    "    'r':'D4',\n",
    "    'a':'F4',\n",
    "    't':'A4',\n",
    "    'd':'C5',\n",
    "    'h':'B3',\n",
    "    'u':'A3',\n",
    "    'l':'F3',\n",
    "    'c':'E5',\n",
    "    'g':'G5',\n",
    "    'm':'G3',\n",
    "    'o':'C3',\n",
    "    'b':'D3',\n",
    "    'w':'E3',\n",
    "    'f':'D5',\n",
    "    'k':'F5',\n",
    "    'z':'A5',\n",
    "    'p':'B5',\n",
    "    'v':'C6',\n",
    "    'ß':'B2',\n",
    "    'j':'A2',\n",
    "    'y':'F2',\n",
    "    'x':'E6',\n",
    "    'q':'G6'\n",
    "}"
   ]
  },
  {
   "cell_type": "markdown",
   "metadata": {},
   "source": [
    "### Helper Functions\n",
    "\n",
    "#### charToPitchVal\n",
    "Map an instance of the unit (in this case, a character string) to a particular pitch value given a particular input dictionary"
   ]
  },
  {
   "cell_type": "code",
   "execution_count": 44,
   "metadata": {
    "collapsed": false
   },
   "outputs": [],
   "source": [
    "def charToPitchVal(dict1, string1):\n",
    "    notePitch = ''\n",
    "    \n",
    "    if string1.isalpha() == True:\n",
    "        notePitch = dict1[string1]\n",
    "        \n",
    "    return notePitch"
   ]
  },
  {
   "cell_type": "markdown",
   "metadata": {},
   "source": [
    "#### wordToMeasure\n",
    "\n",
    "Map a word to a measure of the piece. The measure is hardcoded to be in 4-4 time. \n",
    "\n",
    "*Sample rule for converting a word to a measure:*\n",
    "\n",
    "* Take the input word. Determine its length. \n",
    "* For each note\n",
    "    * The duration of each note in the measure will be the measure length divided by the word's length. \n",
    "    * Determine the pitch of each note\n",
    "\n"
   ]
  },
  {
   "cell_type": "code",
   "execution_count": 45,
   "metadata": {
    "collapsed": false
   },
   "outputs": [],
   "source": [
    "def wordToMeasure(word,dict1):\n",
    "    s = mus.stream.Stream()\n",
    "    wlength = len(word)\n",
    "    noteLength = 4/(wlength)\n",
    "    \n",
    "    dur = mus.duration.Duration(noteLength)\n",
    "    \n",
    "    for char in word:\n",
    "        cval = charToPitchVal(dict1,char)\n",
    "        \n",
    "        if len(cval)>0:\n",
    "            cvalNote = mus.note.Note(cval)\n",
    "            cvalNote.duration = dur\n",
    "            s.append(cvalNote)\n",
    "        else:\n",
    "            charRest = mus.note.Rest()\n",
    "            charRest.duration = dur\n",
    "            s.append(charRest)\n",
    "            \n",
    "    return(s)"
   ]
  },
  {
   "cell_type": "markdown",
   "metadata": {},
   "source": [
    "#### letterPiece\n",
    "\n",
    "Create a melody from an input text in list form list, by converting each word (element of the list) into a measure"
   ]
  },
  {
   "cell_type": "code",
   "execution_count": 46,
   "metadata": {
    "collapsed": false
   },
   "outputs": [],
   "source": [
    "def letterPiece(letter, dict1):\n",
    "    piece = mus.stream.Stream()\n",
    "    for word in letter:\n",
    "        measure = wordToMeasure(word,dict1)\n",
    "        piece.append(measure)\n",
    "    return(piece)"
   ]
  },
  {
   "cell_type": "markdown",
   "metadata": {},
   "source": [
    "#### melodicNote_fileInput\n",
    "Create a melody from an input note given an output name, output file path, input file path, input dictionary\n",
    "\n",
    "prints analyzed key"
   ]
  },
  {
   "cell_type": "code",
   "execution_count": 47,
   "metadata": {
    "collapsed": true
   },
   "outputs": [],
   "source": [
    "def melodicNote(outputName, outputFilePath, inputFileWPath, inputDictionary):\n",
    "    with open(file=inputFileWPath,mode='r',encoding='utf-8') as textFile:\n",
    "        raw_note = textFile.read()\n",
    "        textFile.close()\n",
    "    lowercase_note = raw_note.lower()\n",
    "    fragmented_note = lowercase_note.split()\n",
    "    \n",
    "    musically_encoded_note = letterPiece(fragmented_note, inputDictionary)\n",
    "    saveFilePath = outputFilePath+'\\\\'+outputName+'.mid'\n",
    "    musically_encoded_note.write('midi',saveFilePath)  \n",
    "    print(musically_encoded_note.analyze('key'))\n",
    "        \n",
    "    return(musically_encoded_note.show('midi'))\n",
    "    \n",
    "                              "
   ]
  },
  {
   "cell_type": "code",
   "execution_count": 48,
   "metadata": {
    "collapsed": false,
    "scrolled": true
   },
   "outputs": [
    {
     "name": "stdout",
     "output_type": "stream",
     "text": [
      "a minor\n"
     ]
    },
    {
     "data": {
      "text/html": [
       "\n",
       "                <div id='midiPlayerDiv16242'></div>\n",
       "                <link rel=\"stylesheet\" href=\"http://artusi.xyz/music21j/css/m21.css\" \n",
       "                    type=\"text/css\" />\n",
       "                <script>\n",
       "                require.config({\n",
       "                    paths: {'music21': 'http://artusi.xyz/music21j/src/music21'} \n",
       "                }); \n",
       "                require(['music21'], function() { \n",
       "                               mp = new music21.miditools.MidiPlayer();\n",
       "                               mp.addPlayer('#midiPlayerDiv16242'); \n",
       "                               mp.base64Load('data:audio/midi;base64,TVRoZAAAAAYAAQABBABNVHJrAAACTwD/AwAA4ABAiACQQVqIAIBBAACQMFqIAIAwAACQR1qIAIBHAACQSFqIAIBIAACQR1qQAIBHAACQSFqQAIBIAACQQFqgAIBAAACQSFqFK4BIAACQQFqFKpA3WgGAQACFKoA3AACQT1qFK4BPAACQO1qFKpA8WgGAOwCFKoA8AACQR1qGM4BHAACQRVqGM4BFAACQT1qGM4BPAAGQNVqGM4A1AACQQVqGM4BBAACQQVqIAIBBAACQPFqIAIA8AACQL1qIAIAvAACQQVqIAIBBAACQSlqGM4BKAACQR1qGM4BHAACQO1qGM4A7AAGQPFqGM4A8AIYzkDVailWANQAAkEhailWASAABkDxailWAPAAAkEFaiACAQQAAkDBaiACAMAAAkEdaiACARwAAkEhaiACASAAAkEFakACAQQAAkD5akACAPgAAkEhailWASAAAkDxailWAPAABkDxailWAPAAAkEBakACAQAAAkEVakACARQAAkDxahEmAPAAAkC9ahEmALwAAkEBahEmAQAAAkDdahEmANwABkE9ahEmATwAAkDtahEmAOwAAkDxahEmAPAAAkD5akACAPgAAkEpakACASgAAkDBailWAMAAAkD5ailWAPgABkFFailWAUQAAkEFailWAQQAAkDBailWAMAABkDxailWAPAAAkDlaiACAOQAAkD5aiACAPgAAkExaiACATAAAkDxaiACAPAAAkFFahSuAUQAAkD5ahSqQQ1oBgD4AhSqAQwAAkFNahSuAUwAAkEhahSuASACIAP8vAA=='); \n",
       "                        });\n",
       "                </script>"
      ],
      "text/plain": [
       "<IPython.core.display.HTML object>"
      ]
     },
     "metadata": {},
     "output_type": "display_data"
    }
   ],
   "source": [
    "outputName='test_TextToMusic_1'\n",
    "outputFilePath = 'sample_output'\n",
    "inputFileWPath = \"sample_input\\\\sampleText.txt\"\n",
    "inputDictionary = englishToNote    \n",
    "\n",
    "melodicNote(outputName, outputFilePath, inputFileWPath, inputDictionary)"
   ]
  },
  {
   "cell_type": "code",
   "execution_count": 49,
   "metadata": {
    "collapsed": false
   },
   "outputs": [
    {
     "name": "stdout",
     "output_type": "stream",
     "text": [
      "a minor\n"
     ]
    },
    {
     "data": {
      "text/html": [
       "\n",
       "                <div id='midiPlayerDiv17719'></div>\n",
       "                <link rel=\"stylesheet\" href=\"http://artusi.xyz/music21j/css/m21.css\" \n",
       "                    type=\"text/css\" />\n",
       "                <script>\n",
       "                require.config({\n",
       "                    paths: {'music21': 'http://artusi.xyz/music21j/src/music21'} \n",
       "                }); \n",
       "                require(['music21'], function() { \n",
       "                               mp = new music21.miditools.MidiPlayer();\n",
       "                               mp.addPlayer('#midiPlayerDiv17719'); \n",
       "                               mp.base64Load('data:audio/midi;base64,TVRoZAAAAAYAAQABBABNVHJrAAACTwD/AwAA4ABAiACQRVqIAIBFAACQO1qIAIA7AACQQ1qIAIBDAACQR1qIAIBHAACQQ1qQAIBDAACQR1qQAIBHAACQQVqgAIBBAACQR1qFK4BHAACQQVqFKpA3WgGAQQCFKoA3AACQU1qFK4BTAACQNVqFKpA8WgGANQCFKoA8AACQQ1qGM4BDAACQQFqGM4BAAACQU1qGM4BTAAGQOVqGM4A5AACQRVqGM4BFAACQRVqIAIBFAACQPFqIAIA8AACQWFqIAIBYAACQRVqIAIBFAACQSlqGM4BKAACQQ1qGM4BDAACQNVqGM4A1AAGQPFqGM4A8AIYzkDlailWAOQAAkEdailWARwABkDxailWAPAAAkEVaiACARQAAkDtaiACAOwAAkENaiACAQwAAkEdaiACARwAAkEVakACARQAAkDBakACAMAAAkEdailWARwAAkDxailWAPAABkDxailWAPAAAkEFakACAQQAAkEBakACAQAAAkDxahEmAPAAAkFhahEmAWAAAkEFahEmAQQAAkDdahEmANwABkFNahEmAUwAAkDVahEmANQAAkDxahEmAPAAAkDBakACAMAAAkEpakACASgAAkDtailWAOwAAkDBailWAMAABkDRailWANAAAkEVailWARQAAkDtailWAOwABkDxailWAPAAAkExaiACATAAAkDBaiACAMAAAkEhaiACASAAAkDxaiACAPAAAkDRahSuANAAAkDBahSqQPloBgDAAhSqAPgAAkE1ahSuATQAAkEdahSuARwCIAP8vAA=='); \n",
       "                        });\n",
       "                </script>"
      ],
      "text/plain": [
       "<IPython.core.display.HTML object>"
      ]
     },
     "metadata": {},
     "output_type": "display_data"
    }
   ],
   "source": [
    "outputName='test_TextToMusic_2'\n",
    "outputFilePath = 'sample_output'\n",
    "inputFileWPath = \"sample_input\\\\sampleText.txt\"\n",
    "inputDictionary = germanToNote    \n",
    "\n",
    "melodicNote(outputName, outputFilePath, inputFileWPath, inputDictionary)"
   ]
  },
  {
   "cell_type": "markdown",
   "metadata": {
    "collapsed": true
   },
   "source": [
    "#### noteTemplate"
   ]
  },
  {
   "cell_type": "code",
   "execution_count": 50,
   "metadata": {
    "collapsed": false
   },
   "outputs": [],
   "source": [
    "def noteTemplate(outputFilePath,outputName,inputText):\n",
    "    filepath = outputFilePath+'\\\\'+outputName + '.txt'\n",
    "    with open(filepath,'w+') as outputNote:\n",
    "        text1 = 'Standard text goes here. \\n'\n",
    "        text2 = ('Figure out what to write.  ' \n",
    "                 'Then write it.  \\n')\n",
    "        text3 = inputText\n",
    "        text4 = ('See? '\n",
    "                 'That\\'s not so bad.  '\n",
    "                )\n",
    "        \n",
    "        outputNote.write(text1)\n",
    "        outputNote.write('\\n')\n",
    "        outputNote.write(text2)\n",
    "        outputNote.write('\\n')\n",
    "        outputNote.write(text3)\n",
    "        outputNote.write('\\n')\n",
    "        outputNote.write(text4)\n",
    "        \n",
    "        outputNote.close()\n",
    "        \n",
    "    return(filepath)\n",
    "                 "
   ]
  },
  {
   "cell_type": "code",
   "execution_count": 51,
   "metadata": {
    "collapsed": false
   },
   "outputs": [
    {
     "name": "stdout",
     "output_type": "stream",
     "text": [
      "F major\n"
     ]
    },
    {
     "data": {
      "text/html": [
       "\n",
       "                <div id='midiPlayerDiv20087'></div>\n",
       "                <link rel=\"stylesheet\" href=\"http://artusi.xyz/music21j/css/m21.css\" \n",
       "                    type=\"text/css\" />\n",
       "                <script>\n",
       "                require.config({\n",
       "                    paths: {'music21': 'http://artusi.xyz/music21j/src/music21'} \n",
       "                }); \n",
       "                require(['music21'], function() { \n",
       "                               mp = new music21.miditools.MidiPlayer();\n",
       "                               mp.addPlayer('#midiPlayerDiv20087'); \n",
       "                               mp.base64Load('data:audio/midi;base64,TVRoZAAAAAYAAQABBABNVHJrAAADkAD/AwAA4ABAiACQSFqEAIBIAACQQVqEAIBBAACQQFqEAIBAAACQRVqEAIBFAACQTFqEAIBMAACQQFqEAIBAAACQQ1qEAIBDAACQTFqEAIBMAACQQVqIAIBBAACQPFqIAIA8AACQL1qIAIAvAACQQVqIAIBBAACQMlqIAIAyAACQPlqIAIA+AACQPFqIAIA8AACQSFqIAIBIAACQMFqGM4AwAACQPFqGM4A8AACQQ1qGM4BDAAGQPFqGM4A8AIYzkEpahSuASgAAkEdahSqQMloBgEcAhSqAMgAAkDVahSuANQAAkENahSqQPFoBgEMAhSqAPAAAkD5ailWAPgAAkDVailWANQABkEFailWAQQAAkFFaiACAUQAAkDBaiACAMAAAkEBaiACAQAAAkEFaiACAQQAAkEFakACAQQAAkD5akACAPgAAkFFahSuAUQAAkENahSqQR1oBgEMAhSqARwAAkEFahSuAQQAAkDxahSuAPACFKpBBWogAgEEAAJAwWogAgDAAAJA8WogAgDwAAJBFWogAgEUAAJBRWoYzgFEAAJBDWoYzgEMAAJBHWoYzgEcAAZBBWoYzgEEAAJA8WoYzgDwAAJBHWopVgEcAAJBBWopVgEEAilaQPFqESYA8AACQL1qESYAvAACQQFqESYBAAACQN1qESYA3AAGQT1qESYBPAACQO1qESYA7AACQPFqESYA8AACQR1qGM4BHAACQRVqGM4BFAACQT1qGM4BPAAGQNVqGM4A1AACQQVqGM4BBAACQQVqGM4BBAACQPFqGM4A8AACQL1qGM4AvAAGQQVqGM4BBAIYzkFFahjOAUQAAkENahjOAQwAAkEdahjOARwABkEFahjOAQQAAkDxahjOAPAAAkFFaiACAUQAAkDBaiACAMAAAkEBaiACAQAAAkEFaiACAQQAAkE1ailWATQAAkD5ailWAPgABkDVailWANQAAkDtahjOAOwAAkEdahjOARwAAkFNahjOAUwABkDxahjOAPACGM5BIWogAgEgAAJA8WogAgDwAAJA8WogAgDwAiACQQVqFK4BBAACQMFqFKpBAWgGAMACFKoBAAACQQVqFK4BBAIUqkEhahSuASAAAkEVailWARQAAkD5ailWAPgABkEFailWAQQAAkEhakACASAAAkD5akACAPgAAkDRaiACANAAAkEBaiACAQAAAkExaiACATACIAP8vAA=='); \n",
       "                        });\n",
       "                </script>"
      ],
      "text/plain": [
       "<IPython.core.display.HTML object>"
      ]
     },
     "metadata": {},
     "output_type": "display_data"
    }
   ],
   "source": [
    "outputName='test_TextToMusic_3'\n",
    "outputFilePath = 'sample_output'\n",
    "inputDictionary = englishToNote  \n",
    "\n",
    "personalNote = ('Example input text. '\n",
    "               'Write what you like. ')\n",
    "\n",
    "inputFileWPath = noteTemplate(outputFilePath,outputName,personalNote)\n",
    "melodicNote(outputName, outputFilePath, inputFileWPath, inputDictionary)"
   ]
  }
 ],
 "metadata": {
  "kernelspec": {
   "display_name": "Python 3",
   "language": "python",
   "name": "python3"
  },
  "language_info": {
   "codemirror_mode": {
    "name": "ipython",
    "version": 3
   },
   "file_extension": ".py",
   "mimetype": "text/x-python",
   "name": "python",
   "nbconvert_exporter": "python",
   "pygments_lexer": "ipython3",
   "version": "3.5.3"
  }
 },
 "nbformat": 4,
 "nbformat_minor": 0
}
