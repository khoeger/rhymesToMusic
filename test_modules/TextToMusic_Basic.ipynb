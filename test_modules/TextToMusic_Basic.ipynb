{
 "cells": [
  {
   "cell_type": "markdown",
   "metadata": {},
   "source": [
    "# Project Musicode Notes"
   ]
  },
  {
   "cell_type": "markdown",
   "metadata": {},
   "source": [
    "## Goal\n",
    "Code input notes/letters as music.\n",
    "\n",
    "This is a basic process used to take a single unit (character string) of input, map it to a particular note, and generate a midi melody using the music21 python library. \n",
    "\n",
    "This code takes in an input text file, coded in UTF-8, and outputs a midi melody line. \n",
    "\n",
    "## Process\n",
    "* Imports\n",
    "* mentally determine a rule for transforming text to melody\n",
    "    * in this case: each letter represents a pitch, and word length determines how to subdivide a measure\n",
    "* map smallest units of input (letters, in this case) to pitches, using dictionary\n",
    "* construct helper functions/ process that \n",
    "    * look up note pitch in dictionary\n",
    "    * create a measure from a word\n",
    "    * create a melody from input list of words\n",
    "    * create a input list of words from input text\n",
    "    * create a more standard input text\n",
    "* use the helpers to create a function/functions that take in a text file, output a melody based off of the mapping rule\n",
    "\n",
    "** Process to be improved upon in future **"
   ]
  },
  {
   "cell_type": "markdown",
   "metadata": {},
   "source": [
    "## Code\n",
    "\n",
    "### Setup\n",
    "\n",
    "#### Imports"
   ]
  },
  {
   "cell_type": "code",
   "execution_count": 1,
   "metadata": {
    "collapsed": true
   },
   "outputs": [],
   "source": [
    "import music21 as mus"
   ]
  },
  {
   "cell_type": "markdown",
   "metadata": {},
   "source": [
    "#### Map Musical Note to Smallest Unit\n",
    "\n",
    "The letters in the dictionary are listed in the order of most to least frequent in the use of the specified language. The notes mapped next to them are listed in the guessed order of most to least frequent. "
   ]
  },
  {
   "cell_type": "code",
   "execution_count": 2,
   "metadata": {
    "collapsed": true
   },
   "outputs": [],
   "source": [
    "englishToNote = { # C Major (root c4), English, Frequency,\n",
    "    'e':'C4',\n",
    "    'a':'E4',\n",
    "    'r':'G4',\n",
    "    'i':'B4',\n",
    "    'o':'D4',\n",
    "    't':'F4',\n",
    "    'n':'A4',\n",
    "    's':'C5',\n",
    "    'l':'B3',\n",
    "    'c':'A3',\n",
    "    'u':'F3',\n",
    "    'd':'E5',\n",
    "    'p':'G5',\n",
    "    'm':'G3',\n",
    "    'h':'C3',\n",
    "    'g':'D3',\n",
    "    'b':'E3',\n",
    "    'f':'D5',\n",
    "    'y':'F5',\n",
    "    'w':'A5',\n",
    "    'k':'B5',\n",
    "    'v':'C6',\n",
    "    'x':'B2',\n",
    "    'z':'A2',\n",
    "    'j':'F2',\n",
    "    'q':'E6'\n",
    "}\n",
    "\n",
    "germanToNote = { # C Major (root c4), German, Frequency,\n",
    "    'e':'C4',\n",
    "    'n':'E4',\n",
    "    'i':'G4',\n",
    "    's':'B4',\n",
    "    'r':'D4',\n",
    "    'a':'F4',\n",
    "    't':'A4',\n",
    "    'd':'C5',\n",
    "    'h':'B3',\n",
    "    'u':'A3',\n",
    "    'l':'F3',\n",
    "    'c':'E5',\n",
    "    'g':'G5',\n",
    "    'm':'G3',\n",
    "    'o':'C3',\n",
    "    'b':'D3',\n",
    "    'w':'E3',\n",
    "    'f':'D5',\n",
    "    'k':'F5',\n",
    "    'z':'A5',\n",
    "    'p':'B5',\n",
    "    'v':'C6',\n",
    "    'ß':'B2',\n",
    "    'j':'A2',\n",
    "    'y':'F2',\n",
    "    'x':'E6',\n",
    "    'q':'G6'\n",
    "}"
   ]
  },
  {
   "cell_type": "markdown",
   "metadata": {},
   "source": [
    "### Helper Functions\n",
    "\n",
    "#### charToPitchVal\n",
    "Map an instance of the unit (in this case, a character string) to a particular pitch value given a particular input dictionary"
   ]
  },
  {
   "cell_type": "code",
   "execution_count": 3,
   "metadata": {},
   "outputs": [],
   "source": [
    "def charToPitchVal(dict1, string1):\n",
    "    notePitch = ''\n",
    "    \n",
    "    if string1.isalpha() == True:\n",
    "        notePitch = dict1[string1]\n",
    "        \n",
    "    return notePitch"
   ]
  },
  {
   "cell_type": "markdown",
   "metadata": {},
   "source": [
    "#### wordToMeasure\n",
    "\n",
    "Map a word to a measure of the piece. The measure is hardcoded to be in 4-4 time. \n",
    "\n",
    "*Sample rule for converting a word to a measure:*\n",
    "\n",
    "* Take the input word. Determine its length. \n",
    "* For each note\n",
    "    * The duration of each note in the measure will be the measure length divided by the word's length. \n",
    "    * Determine the pitch of each note\n",
    "\n"
   ]
  },
  {
   "cell_type": "code",
   "execution_count": 4,
   "metadata": {},
   "outputs": [],
   "source": [
    "def wordToMeasure(word,dict1):\n",
    "    s = mus.stream.Stream()\n",
    "    wlength = len(word)\n",
    "    noteLength = 4/(wlength)\n",
    "    \n",
    "    dur = mus.duration.Duration(noteLength)\n",
    "    \n",
    "    for char in word:\n",
    "        cval = charToPitchVal(dict1,char)\n",
    "        \n",
    "        if len(cval)>0:\n",
    "            cvalNote = mus.note.Note(cval)\n",
    "            cvalNote.duration = dur\n",
    "            s.append(cvalNote)\n",
    "        else:\n",
    "            charRest = mus.note.Rest()\n",
    "            charRest.duration = dur\n",
    "            s.append(charRest)\n",
    "            \n",
    "    return(s)"
   ]
  },
  {
   "cell_type": "markdown",
   "metadata": {},
   "source": [
    "#### letterPiece\n",
    "\n",
    "Create a melody from an input text in list form list, by converting each word (element of the list) into a measure"
   ]
  },
  {
   "cell_type": "code",
   "execution_count": 5,
   "metadata": {},
   "outputs": [],
   "source": [
    "def letterPiece(letter, dict1):\n",
    "    piece = mus.stream.Stream()\n",
    "    for word in letter:\n",
    "        measure = wordToMeasure(word,dict1)\n",
    "        piece.append(measure)\n",
    "    return(piece)"
   ]
  },
  {
   "cell_type": "markdown",
   "metadata": {},
   "source": [
    "#### noteTemplate\n",
    "\n",
    "Create a text file using a template "
   ]
  },
  {
   "cell_type": "code",
   "execution_count": 6,
   "metadata": {
    "collapsed": true
   },
   "outputs": [],
   "source": [
    "def noteTemplate(outputFilePath,outputName,inputText):\n",
    "    filepath = outputFilePath+'\\\\'+outputName + '.txt'\n",
    "    with open(filepath,'w+') as outputNote:\n",
    "        text1 = 'Standard text goes here. \\n'\n",
    "        text2 = ('Figure out what to write.  ' \n",
    "                 'Then write it.  \\n')\n",
    "        text3 = inputText\n",
    "        text4 = ('See? '\n",
    "                 'That\\'s not so bad.  '\n",
    "                )\n",
    "        \n",
    "        outputNote.write(text1)\n",
    "        outputNote.write('\\n')\n",
    "        outputNote.write(text2)\n",
    "        outputNote.write('\\n')\n",
    "        outputNote.write(text3)\n",
    "        outputNote.write('\\n')\n",
    "        outputNote.write(text4)\n",
    "        \n",
    "        outputNote.close()\n",
    "        \n",
    "    return(filepath)\n",
    "                 "
   ]
  },
  {
   "cell_type": "markdown",
   "metadata": {},
   "source": [
    "## Main function"
   ]
  },
  {
   "cell_type": "markdown",
   "metadata": {},
   "source": [
    "#### melodicNote\n",
    "Create a melody from an input note given an output name, output file path, input file path, input dictionary\n",
    "\n",
    "prints analyzed key"
   ]
  },
  {
   "cell_type": "code",
   "execution_count": 7,
   "metadata": {
    "collapsed": true
   },
   "outputs": [],
   "source": [
    "def melodicNote(outputName, outputFilePath, inputFileWPath, inputDictionary):\n",
    "    with open(file=inputFileWPath,mode='r',encoding='utf-8') as textFile:\n",
    "        raw_note = textFile.read()\n",
    "        textFile.close()\n",
    "    lowercase_note = raw_note.lower()\n",
    "    fragmented_note = lowercase_note.split()\n",
    "    \n",
    "    musically_encoded_note = letterPiece(fragmented_note, inputDictionary)\n",
    "    saveFilePath = outputFilePath+'\\\\'+outputName+'.mid'\n",
    "    musically_encoded_note.write('midi',saveFilePath)  \n",
    "    print(musically_encoded_note.analyze('key'))\n",
    "        \n",
    "    return(musically_encoded_note.show('midi'))\n",
    "    \n",
    "                              "
   ]
  },
  {
   "cell_type": "markdown",
   "metadata": {},
   "source": [
    "### Testing "
   ]
  },
  {
   "cell_type": "code",
   "execution_count": 8,
   "metadata": {},
   "outputs": [
    {
     "name": "stdout",
     "output_type": "stream",
     "text": [
      "a minor\n"
     ]
    },
    {
     "data": {
      "text/html": [
       "\n",
       "                <div id='midiPlayerDiv1476'></div>\n",
       "                <link rel=\"stylesheet\" href=\"http://artusi.xyz/music21j/css/m21.css\" \n",
       "                    type=\"text/css\" />\n",
       "                <script>\n",
       "                require.config({\n",
       "                    paths: {'music21': 'http://artusi.xyz/music21j/src/music21'} \n",
       "                }); \n",
       "                require(['music21'], function() { \n",
       "                               mp = new music21.miditools.MidiPlayer();\n",
       "                               mp.addPlayer('#midiPlayerDiv1476'); \n",
       "                               mp.base64Load('data:audio/midi;base64,TVRoZAAAAAYAAQABBABNVHJrAAACTwD/AwAA4ABAiACQQVqIAIBBAACQMFqIAIAwAACQR1qIAIBHAACQSFqIAIBIAACQR1qQAIBHAACQSFqQAIBIAACQQFqgAIBAAACQSFqFK4BIAACQQFqFKpA3WgGAQACFKoA3AACQT1qFK4BPAACQO1qFKpA8WgGAOwCFKoA8AACQR1qGM4BHAACQRVqGM4BFAACQT1qGM4BPAAGQNVqGM4A1AACQQVqGM4BBAACQQVqIAIBBAACQPFqIAIA8AACQL1qIAIAvAACQQVqIAIBBAACQSlqGM4BKAACQR1qGM4BHAACQO1qGM4A7AAGQPFqGM4A8AIYzkDVailWANQAAkEhailWASAABkDxailWAPAAAkEFaiACAQQAAkDBaiACAMAAAkEdaiACARwAAkEhaiACASAAAkEFakACAQQAAkD5akACAPgAAkEhailWASAAAkDxailWAPAABkDxailWAPAAAkEBakACAQAAAkEVakACARQAAkDxahEmAPAAAkC9ahEmALwAAkEBahEmAQAAAkDdahEmANwABkE9ahEmATwAAkDtahEmAOwAAkDxahEmAPAAAkD5akACAPgAAkEpakACASgAAkDBailWAMAAAkD5ailWAPgABkFFailWAUQAAkEFailWAQQAAkDBailWAMAABkDxailWAPAAAkDlaiACAOQAAkD5aiACAPgAAkExaiACATAAAkDxaiACAPAAAkFFahSuAUQAAkD5ahSqQQ1oBgD4AhSqAQwAAkFNahSuAUwAAkEhahSuASACIAP8vAA=='); \n",
       "                        });\n",
       "                </script>"
      ],
      "text/plain": [
       "<IPython.core.display.HTML object>"
      ]
     },
     "metadata": {},
     "output_type": "display_data"
    }
   ],
   "source": [
    "outputName='test_TextToMusic_1'\n",
    "outputFilePath = 'sample_output'\n",
    "inputFileWPath = \"sample_input\\\\sampleText.txt\"\n",
    "inputDictionary = englishToNote    \n",
    "\n",
    "melodicNote(outputName, outputFilePath, inputFileWPath, inputDictionary)"
   ]
  },
  {
   "cell_type": "code",
   "execution_count": 9,
   "metadata": {},
   "outputs": [
    {
     "name": "stdout",
     "output_type": "stream",
     "text": [
      "a minor\n"
     ]
    },
    {
     "data": {
      "text/html": [
       "\n",
       "                <div id='midiPlayerDiv2953'></div>\n",
       "                <link rel=\"stylesheet\" href=\"http://artusi.xyz/music21j/css/m21.css\" \n",
       "                    type=\"text/css\" />\n",
       "                <script>\n",
       "                require.config({\n",
       "                    paths: {'music21': 'http://artusi.xyz/music21j/src/music21'} \n",
       "                }); \n",
       "                require(['music21'], function() { \n",
       "                               mp = new music21.miditools.MidiPlayer();\n",
       "                               mp.addPlayer('#midiPlayerDiv2953'); \n",
       "                               mp.base64Load('data:audio/midi;base64,TVRoZAAAAAYAAQABBABNVHJrAAACTwD/AwAA4ABAiACQRVqIAIBFAACQO1qIAIA7AACQQ1qIAIBDAACQR1qIAIBHAACQQ1qQAIBDAACQR1qQAIBHAACQQVqgAIBBAACQR1qFK4BHAACQQVqFKpA3WgGAQQCFKoA3AACQU1qFK4BTAACQNVqFKpA8WgGANQCFKoA8AACQQ1qGM4BDAACQQFqGM4BAAACQU1qGM4BTAAGQOVqGM4A5AACQRVqGM4BFAACQRVqIAIBFAACQPFqIAIA8AACQWFqIAIBYAACQRVqIAIBFAACQSlqGM4BKAACQQ1qGM4BDAACQNVqGM4A1AAGQPFqGM4A8AIYzkDlailWAOQAAkEdailWARwABkDxailWAPAAAkEVaiACARQAAkDtaiACAOwAAkENaiACAQwAAkEdaiACARwAAkEVakACARQAAkDBakACAMAAAkEdailWARwAAkDxailWAPAABkDxailWAPAAAkEFakACAQQAAkEBakACAQAAAkDxahEmAPAAAkFhahEmAWAAAkEFahEmAQQAAkDdahEmANwABkFNahEmAUwAAkDVahEmANQAAkDxahEmAPAAAkDBakACAMAAAkEpakACASgAAkDtailWAOwAAkDBailWAMAABkDRailWANAAAkEVailWARQAAkDtailWAOwABkDxailWAPAAAkExaiACATAAAkDBaiACAMAAAkEhaiACASAAAkDxaiACAPAAAkDRahSuANAAAkDBahSqQPloBgDAAhSqAPgAAkE1ahSuATQAAkEdahSuARwCIAP8vAA=='); \n",
       "                        });\n",
       "                </script>"
      ],
      "text/plain": [
       "<IPython.core.display.HTML object>"
      ]
     },
     "metadata": {},
     "output_type": "display_data"
    }
   ],
   "source": [
    "outputName='test_TextToMusic_2'\n",
    "outputFilePath = 'sample_output'\n",
    "inputFileWPath = \"sample_input\\\\sampleText.txt\"\n",
    "inputDictionary = germanToNote    \n",
    "\n",
    "melodicNote(outputName, outputFilePath, inputFileWPath, inputDictionary)"
   ]
  },
  {
   "cell_type": "code",
   "execution_count": 10,
   "metadata": {},
   "outputs": [
    {
     "name": "stdout",
     "output_type": "stream",
     "text": [
      "F major\n"
     ]
    },
    {
     "data": {
      "text/html": [
       "\n",
       "                <div id='midiPlayerDiv5321'></div>\n",
       "                <link rel=\"stylesheet\" href=\"http://artusi.xyz/music21j/css/m21.css\" \n",
       "                    type=\"text/css\" />\n",
       "                <script>\n",
       "                require.config({\n",
       "                    paths: {'music21': 'http://artusi.xyz/music21j/src/music21'} \n",
       "                }); \n",
       "                require(['music21'], function() { \n",
       "                               mp = new music21.miditools.MidiPlayer();\n",
       "                               mp.addPlayer('#midiPlayerDiv5321'); \n",
       "                               mp.base64Load('data:audio/midi;base64,TVRoZAAAAAYAAQABBABNVHJrAAADkAD/AwAA4ABAiACQSFqEAIBIAACQQVqEAIBBAACQQFqEAIBAAACQRVqEAIBFAACQTFqEAIBMAACQQFqEAIBAAACQQ1qEAIBDAACQTFqEAIBMAACQQVqIAIBBAACQPFqIAIA8AACQL1qIAIAvAACQQVqIAIBBAACQMlqIAIAyAACQPlqIAIA+AACQPFqIAIA8AACQSFqIAIBIAACQMFqGM4AwAACQPFqGM4A8AACQQ1qGM4BDAAGQPFqGM4A8AIYzkEpahSuASgAAkEdahSqQMloBgEcAhSqAMgAAkDVahSuANQAAkENahSqQPFoBgEMAhSqAPAAAkD5ailWAPgAAkDVailWANQABkEFailWAQQAAkFFaiACAUQAAkDBaiACAMAAAkEBaiACAQAAAkEFaiACAQQAAkEFakACAQQAAkD5akACAPgAAkFFahSuAUQAAkENahSqQR1oBgEMAhSqARwAAkEFahSuAQQAAkDxahSuAPACFKpBBWogAgEEAAJAwWogAgDAAAJA8WogAgDwAAJBFWogAgEUAAJBRWoYzgFEAAJBDWoYzgEMAAJBHWoYzgEcAAZBBWoYzgEEAAJA8WoYzgDwAAJBHWopVgEcAAJBBWopVgEEAilaQPFqESYA8AACQL1qESYAvAACQQFqESYBAAACQN1qESYA3AAGQT1qESYBPAACQO1qESYA7AACQPFqESYA8AACQR1qGM4BHAACQRVqGM4BFAACQT1qGM4BPAAGQNVqGM4A1AACQQVqGM4BBAACQQVqGM4BBAACQPFqGM4A8AACQL1qGM4AvAAGQQVqGM4BBAIYzkFFahjOAUQAAkENahjOAQwAAkEdahjOARwABkEFahjOAQQAAkDxahjOAPAAAkFFaiACAUQAAkDBaiACAMAAAkEBaiACAQAAAkEFaiACAQQAAkE1ailWATQAAkD5ailWAPgABkDVailWANQAAkDtahjOAOwAAkEdahjOARwAAkFNahjOAUwABkDxahjOAPACGM5BIWogAgEgAAJA8WogAgDwAAJA8WogAgDwAiACQQVqFK4BBAACQMFqFKpBAWgGAMACFKoBAAACQQVqFK4BBAIUqkEhahSuASAAAkEVailWARQAAkD5ailWAPgABkEFailWAQQAAkEhakACASAAAkD5akACAPgAAkDRaiACANAAAkEBaiACAQAAAkExaiACATACIAP8vAA=='); \n",
       "                        });\n",
       "                </script>"
      ],
      "text/plain": [
       "<IPython.core.display.HTML object>"
      ]
     },
     "metadata": {},
     "output_type": "display_data"
    }
   ],
   "source": [
    "outputName='test_TextToMusic_3'\n",
    "outputFilePath = 'sample_output'\n",
    "inputDictionary = englishToNote  \n",
    "\n",
    "personalNote = ('Example input text. '\n",
    "               'Write what you like. ')\n",
    "\n",
    "inputFileWPath = noteTemplate(outputFilePath,outputName,personalNote)\n",
    "melodicNote(outputName, outputFilePath, inputFileWPath, inputDictionary)"
   ]
  },
  {
   "cell_type": "markdown",
   "metadata": {},
   "source": [
    "## To Do In the Future"
   ]
  },
  {
   "cell_type": "markdown",
   "metadata": {},
   "source": [
    "* Rewrite so that each function is more general/does one task. \n",
    "* Rewrite to make more general, so that this is more input unit dependent, less string dependent\n",
    "* Make better input dictionaries [in progress - see the Notes_By_Frequency_In_Corpus files]\n",
    "* Rewrite so that is less file path dependent\n",
    "* Rewrite so that can be used on any platform "
   ]
  },
  {
   "cell_type": "code",
   "execution_count": 11,
   "metadata": {},
   "outputs": [
    {
     "name": "stdout",
     "output_type": "stream",
     "text": [
      "C major\n"
     ]
    },
    {
     "data": {
      "text/html": [
       "\n",
       "                <div id='midiPlayerDiv118786'></div>\n",
       "                <link rel=\"stylesheet\" href=\"http://artusi.xyz/music21j/css/m21.css\" \n",
       "                    type=\"text/css\" />\n",
       "                <script>\n",
       "                require.config({\n",
       "                    paths: {'music21': 'http://artusi.xyz/music21j/src/music21'} \n",
       "                }); \n",
       "                require(['music21'], function() { \n",
       "                               mp = new music21.miditools.MidiPlayer();\n",
       "                               mp.addPlayer('#midiPlayerDiv118786'); \n",
       "                               mp.base64Load('data:audio/midi;base64,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'); \n",
       "                        });\n",
       "                </script>"
      ],
      "text/plain": [
       "<IPython.core.display.HTML object>"
      ]
     },
     "metadata": {},
     "output_type": "display_data"
    }
   ],
   "source": [
    "outputName='test_raven'\n",
    "outputFilePath = 'sample_output'\n",
    "inputFileWPath = \"sample_input\\\\raven.txt\"\n",
    "inputDictionary = englishToNote    \n",
    "\n",
    "melodicNote(outputName, outputFilePath, inputFileWPath, inputDictionary)"
   ]
  },
  {
   "cell_type": "code",
   "execution_count": 12,
   "metadata": {},
   "outputs": [
    {
     "name": "stdout",
     "output_type": "stream",
     "text": [
      "C major\n"
     ]
    },
    {
     "data": {
      "text/html": [
       "\n",
       "                <div id='midiPlayerDiv128028'></div>\n",
       "                <link rel=\"stylesheet\" href=\"http://artusi.xyz/music21j/css/m21.css\" \n",
       "                    type=\"text/css\" />\n",
       "                <script>\n",
       "                require.config({\n",
       "                    paths: {'music21': 'http://artusi.xyz/music21j/src/music21'} \n",
       "                }); \n",
       "                require(['music21'], function() { \n",
       "                               mp = new music21.miditools.MidiPlayer();\n",
       "                               mp.addPlayer('#midiPlayerDiv128028'); \n",
       "                               mp.base64Load('data:audio/midi;base64,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'); \n",
       "                        });\n",
       "                </script>"
      ],
      "text/plain": [
       "<IPython.core.display.HTML object>"
      ]
     },
     "metadata": {},
     "output_type": "display_data"
    }
   ],
   "source": [
    "outputName='test_10things'\n",
    "outputFilePath = 'sample_output'\n",
    "inputFileWPath = \"sample_input\\\\10things.txt\"\n",
    "inputDictionary = englishToNote    \n",
    "\n",
    "melodicNote(outputName, outputFilePath, inputFileWPath, inputDictionary)"
   ]
  },
  {
   "cell_type": "code",
   "execution_count": 13,
   "metadata": {},
   "outputs": [
    {
     "name": "stdout",
     "output_type": "stream",
     "text": [
      "F major\n"
     ]
    },
    {
     "data": {
      "text/html": [
       "\n",
       "                <div id='midiPlayerDiv135759'></div>\n",
       "                <link rel=\"stylesheet\" href=\"http://artusi.xyz/music21j/css/m21.css\" \n",
       "                    type=\"text/css\" />\n",
       "                <script>\n",
       "                require.config({\n",
       "                    paths: {'music21': 'http://artusi.xyz/music21j/src/music21'} \n",
       "                }); \n",
       "                require(['music21'], function() { \n",
       "                               mp = new music21.miditools.MidiPlayer();\n",
       "                               mp.addPlayer('#midiPlayerDiv135759'); \n",
       "                               mp.base64Load('data:audio/midi;base64,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'); \n",
       "                        });\n",
       "                </script>"
      ],
      "text/plain": [
       "<IPython.core.display.HTML object>"
      ]
     },
     "metadata": {},
     "output_type": "display_data"
    }
   ],
   "source": [
    "outputName='test_handkerchief'\n",
    "outputFilePath = 'sample_output'\n",
    "inputFileWPath = \"sample_input\\\\handkerchief.txt\"\n",
    "inputDictionary = englishToNote    \n",
    "\n",
    "melodicNote(outputName, outputFilePath, inputFileWPath, inputDictionary)"
   ]
  },
  {
   "cell_type": "code",
   "execution_count": null,
   "metadata": {
    "collapsed": true
   },
   "outputs": [],
   "source": []
  }
 ],
 "metadata": {
  "kernelspec": {
   "display_name": "Python 3",
   "language": "python",
   "name": "python3"
  },
  "language_info": {
   "codemirror_mode": {
    "name": "ipython",
    "version": 3
   },
   "file_extension": ".py",
   "mimetype": "text/x-python",
   "name": "python",
   "nbconvert_exporter": "python",
   "pygments_lexer": "ipython3",
   "version": "3.5.3"
  }
 },
 "nbformat": 4,
 "nbformat_minor": 1
}
