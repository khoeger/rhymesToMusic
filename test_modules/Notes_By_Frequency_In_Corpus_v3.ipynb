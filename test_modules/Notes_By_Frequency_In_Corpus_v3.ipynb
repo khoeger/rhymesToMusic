{
 "cells": [
  {
   "cell_type": "markdown",
   "metadata": {},
   "source": [
    "# Notes By Frequency In Corpus\n",
    "\n",
    "## Goal\n",
    "Which scale degrees are most common in the corpus? Output a collection of scale degrees by frequency of occurence.\n",
    "\n",
    "## Idea\n",
    "1. Access each piece in the corpus.\n",
    "2. For each piece\n",
    "    * convert the piece to a standard key based on mode\n",
    "    * break piece into notes\n",
    "    * for each note, record an instance of represented scale degree.\n",
    "3. Output the recorded scale degree collection"
   ]
  },
  {
   "cell_type": "code",
   "execution_count": null,
   "metadata": {
    "collapsed": true
   },
   "outputs": [],
   "source": []
  }
 ],
 "metadata": {
  "kernelspec": {
   "display_name": "Python 3",
   "language": "python",
   "name": "python3"
  },
  "language_info": {
   "codemirror_mode": {
    "name": "ipython",
    "version": 3
   },
   "file_extension": ".py",
   "mimetype": "text/x-python",
   "name": "python",
   "nbconvert_exporter": "python",
   "pygments_lexer": "ipython3",
   "version": "3.5.3"
  }
 },
 "nbformat": 4,
 "nbformat_minor": 0
}
