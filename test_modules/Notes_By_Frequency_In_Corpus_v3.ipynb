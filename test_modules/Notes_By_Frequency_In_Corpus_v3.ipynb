{
 "cells": [
  {
   "cell_type": "markdown",
   "metadata": {},
   "source": [
    "# Notes By Frequency In Corpus\n",
    "\n",
    "## Goal\n",
    "Which scale degrees are most common in the corpus? Output a collection of scale degrees by frequency of occurence.\n",
    "\n",
    "## Idea\n",
    "1. Access each piece in the corpus.\n",
    "    * create a list of elements in the corpus\n",
    "2. For each piece\n",
    "    * convert the piece to a standard key based on mode\n",
    "    * break piece into notes\n",
    "    * for each note, record an instance of represented scale degree.\n",
    "3. Output the recorded scale degree collection"
   ]
  },
  {
   "cell_type": "markdown",
   "metadata": {},
   "source": [
    "## Necessary Libraries"
   ]
  },
  {
   "cell_type": "code",
   "execution_count": 1,
   "metadata": {
    "collapsed": true
   },
   "outputs": [],
   "source": [
    "import music21 as mus"
   ]
  },
  {
   "cell_type": "markdown",
   "metadata": {
    "collapsed": true
   },
   "source": [
    "## Helper Functions\n"
   ]
  },
  {
   "cell_type": "markdown",
   "metadata": {},
   "source": [
    "### Entire Corpus\n",
    "\n",
    "#### listElementsOfCorpus(corpus_chosen):\n",
    "        returns list of pieces in corpus"
   ]
  },
  {
   "cell_type": "code",
   "execution_count": 4,
   "metadata": {
    "collapsed": true
   },
   "outputs": [],
   "source": [
    "def listElementsOfCorpus(corpus_chosen):\n",
    "    element_list = []\n",
    "    corpus_accessed = mus.corpus.getComposer(corpus_chosen)\n",
    "    length_corpus_list = len(corpus_accessed)\n",
    "    i = 0\n",
    "    while i < length_corpus_list:\n",
    "        list_of_pieces = mus.corpus.parse(corpus_accessed[i])\n",
    "        j = len(list_of_pieces)\n",
    "        for k in range(0,j):\n",
    "            element_list.append(list_of_pieces[k])\n",
    "        i+=1\n",
    "    return(element_list)"
   ]
  },
  {
   "cell_type": "markdown",
   "metadata": {},
   "source": [
    "### Single Piece"
   ]
  },
  {
   "cell_type": "markdown",
   "metadata": {},
   "source": [
    "#### transposeMelody( melody_line, melody_key, final_major_key, final_minor_key)\n",
    "* Input: Flattened melody w/out repeats\n",
    "* Output: Melody transposed to correct major or minor output"
   ]
  },
  {
   "cell_type": "code",
   "execution_count": 27,
   "metadata": {
    "collapsed": true
   },
   "outputs": [],
   "source": [
    "def transposeMelody( melody_line , melody_key, final_major_key , final_minor_key ):\n",
    "    if melody_key.mode == 'major':\n",
    "        return(subTransposeMelody( melody_line , melody_key.tonic , final_major_key))\n",
    "    elif  melody_key.mode == 'minor':\n",
    "        return(subTransposeMelody( melody_line , melody_key.tonic , final_minor_key))                 \n",
    "    else:\n",
    "        print('Failed to tranpose melody.\\n')"
   ]
  },
  {
   "cell_type": "markdown",
   "metadata": {},
   "source": [
    "#### subTransposeMelody( melody_line, melody_tonic, final_key)\n",
    "* given melody in major key, transpose it to the final key"
   ]
  },
  {
   "cell_type": "code",
   "execution_count": 28,
   "metadata": {
    "collapsed": true
   },
   "outputs": [],
   "source": [
    "def subTransposeMelody( melody_line, melody_tonic , final_key ):\n",
    "    current_tonic = mus.note.Note(melody_tonic)\n",
    "    final_tonic = mus.note.Note(final_key)\n",
    "   \n",
    "          \n",
    "    interval_wanted = mus.interval.notesToChromatic( current_tonic , final_tonic )\n",
    "    transposed_melody = melody_line.flat.transpose(interval_wanted.getDiatonic().directedName)\n",
    "    \n",
    "    return(transposed_melody)"
   ]
  },
  {
   "cell_type": "markdown",
   "metadata": {},
   "source": [
    "#### countDegrees( pitchList , minor_dict , major_dict , mode)\n",
    "    * Input: Flattened pitch list, dictionaries\n",
    "    * Output: countDegreeOccurrence for mode"
   ]
  },
  {
   "cell_type": "code",
   "execution_count": 89,
   "metadata": {
    "collapsed": true
   },
   "outputs": [],
   "source": [
    "def countDegrees( pitch_list , minor_dict, major_dict, mode, maj_scale , min_scale):\n",
    "    if mode == 'major':\n",
    "        major_dict = countDegOccurrence( pitch_list , major_dict , maj_scale)\n",
    "    elif mode == \"minor\":\n",
    "        minor_dict = countDegOccurrence(  pitch_list , minor_dict, min_scale)\n",
    "    else:\n",
    "        print('Neither major or minor key. Error counting degrees.')\n",
    "    return([major_dict, minor_dict])"
   ]
  },
  {
   "cell_type": "markdown",
   "metadata": {},
   "source": [
    "#### countDegOccurrence( melody_line , dictionary )\n",
    "given a flattened melody line and a dictionary, count the occurences of scale degrees scanned\n"
   ]
  },
  {
   "cell_type": "code",
   "execution_count": 100,
   "metadata": {
    "collapsed": true
   },
   "outputs": [],
   "source": [
    "def countDegOccurrence( pitch_list, dictionary , final_scale):\n",
    "    for p in pitch_list:\n",
    "        degP = final_scale.getScaleDegreeFromPitch(p)\n",
    "        if degP in dictionary.keys():\n",
    "            dictionary[degP] += 1\n",
    "        else:\n",
    "            dictionary[degP] = 1\n",
    "    return(dictionary)\n",
    "    "
   ]
  },
  {
   "cell_type": "markdown",
   "metadata": {},
   "source": [
    "## Testing"
   ]
  },
  {
   "cell_type": "markdown",
   "metadata": {},
   "source": [
    "### General\n",
    "\n",
    "#### Constants"
   ]
  },
  {
   "cell_type": "code",
   "execution_count": 107,
   "metadata": {
    "collapsed": true
   },
   "outputs": [],
   "source": [
    "corpus_chosen = 'airdsAirs'\n",
    "final_major_key = 'C5'#'F#4' \n",
    "final_minor_key = 'A4'#'Eb4'"
   ]
  },
  {
   "cell_type": "markdown",
   "metadata": {},
   "source": [
    "### Universal Initializations"
   ]
  },
  {
   "cell_type": "code",
   "execution_count": 119,
   "metadata": {
    "collapsed": true
   },
   "outputs": [],
   "source": [
    "majScale = mus.scale.MajorScale(final_major_key)\n",
    "minScale = mus.scale.MinorScale(final_minor_key)\n",
    "\n",
    "minorDict = {}\n",
    "majorDict = {}"
   ]
  },
  {
   "cell_type": "markdown",
   "metadata": {},
   "source": [
    "### One piece\n",
    "\n",
    "#### List of pieces in corpus"
   ]
  },
  {
   "cell_type": "code",
   "execution_count": 7,
   "metadata": {
    "collapsed": false
   },
   "outputs": [],
   "source": [
    "pieceList = listElementsOfCorpus(corpus_chosen)"
   ]
  },
  {
   "cell_type": "markdown",
   "metadata": {},
   "source": [
    "#### Single Piece, Melody Line"
   ]
  },
  {
   "cell_type": "code",
   "execution_count": 66,
   "metadata": {
    "collapsed": false
   },
   "outputs": [
    {
     "data": {
      "text/plain": [
       "<music21.stream.Stream 0x14f0329a6a0>"
      ]
     },
     "execution_count": 66,
     "metadata": {},
     "output_type": "execute_result"
    }
   ],
   "source": [
    "piece0 = pieceList[0]\n",
    "piece1 = pieceList[3]\n",
    "#piece0.show('lily')\n",
    "#piece1.show('lily')"
   ]
  },
  {
   "cell_type": "markdown",
   "metadata": {},
   "source": [
    "#### Piece formatting (no repeats, only one melody line)"
   ]
  },
  {
   "cell_type": "code",
   "execution_count": 39,
   "metadata": {
    "collapsed": true
   },
   "outputs": [],
   "source": [
    "piece0 = piece0.expandRepeats()\n",
    "piece0 = piece0.flat\n",
    "#piece0.show('lily')\n",
    "\n",
    "piece1 = piece1.expandRepeats()\n",
    "peice1 = piece1.flat\n",
    "piece1.show('lily')"
   ]
  },
  {
   "cell_type": "markdown",
   "metadata": {},
   "source": [
    "#### Analyze the piece's key"
   ]
  },
  {
   "cell_type": "code",
   "execution_count": 40,
   "metadata": {
    "collapsed": false
   },
   "outputs": [
    {
     "data": {
      "text/plain": [
       "<music21.key.Key of e minor>"
      ]
     },
     "execution_count": 40,
     "metadata": {},
     "output_type": "execute_result"
    }
   ],
   "source": [
    "p0key = piece0.analyze('key')\n",
    "p1key = piece1.analyze('key')\n",
    "p1key"
   ]
  },
  {
   "cell_type": "markdown",
   "metadata": {},
   "source": [
    "#### Transpose to common key"
   ]
  },
  {
   "cell_type": "code",
   "execution_count": 43,
   "metadata": {
    "collapsed": false
   },
   "outputs": [
    {
     "data": {
      "text/html": [
       "\n",
       "                <div id='midiPlayerDiv532995'></div>\n",
       "                <link rel=\"stylesheet\" href=\"http://artusi.xyz/music21j/css/m21.css\" \n",
       "                    type=\"text/css\" />\n",
       "                <script>\n",
       "                require.config({\n",
       "                    paths: {'music21': 'http://artusi.xyz/music21j/src/music21'} \n",
       "                }); \n",
       "                require(['music21'], function() { \n",
       "                               mp = new music21.miditools.MidiPlayer();\n",
       "                               mp.addPlayer('#midiPlayerDiv532995'); \n",
       "                               mp.base64Load('data:audio/midi;base64,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'); \n",
       "                        });\n",
       "                </script>"
      ],
      "text/plain": [
       "<IPython.core.display.HTML object>"
      ]
     },
     "metadata": {},
     "output_type": "display_data"
    }
   ],
   "source": [
    "p0Transpose = transposeMelody(piece0, p0key, final_major_key, final_minor_key)\n",
    "p0Transpose.show('lily')\n",
    "\n",
    "p1Transpose = transposeMelody(piece1, p1key, final_major_key, final_minor_key)\n",
    "p1Transpose.show('lily')\n",
    "p1Transpose.show('midi')"
   ]
  },
  {
   "cell_type": "markdown",
   "metadata": {},
   "source": [
    "#### Count degree occurrence "
   ]
  },
  {
   "cell_type": "code",
   "execution_count": 106,
   "metadata": {
    "collapsed": false
   },
   "outputs": [
    {
     "data": {
      "text/plain": [
       "[{1: 40, 2: 34, 3: 52, 4: 8, 5: 14, 6: 6, 7: 14}, {}]"
      ]
     },
     "execution_count": 106,
     "metadata": {},
     "output_type": "execute_result"
    }
   ],
   "source": [
    "pitchList0 = p0Transpose.pitches\n",
    "shortPitchList0 = [str(p) for p in pitchList0]\n",
    "\n",
    "pitchList1 = p1Transpose.pitches\n",
    "shortPitchList1 = [str(p) for p in pitchList1]\n",
    "\n",
    "#print(type(p0key.tonic.name))\n",
    "#scale0 = mus.scale.MajorScale(p0key.tonic.name)\n",
    "#print(scale0)\n",
    "\n",
    "# WRONG SCALE! NEED FINAL SCALE\n",
    "majScale = mus.scale.MajorScale(final_major_key)\n",
    "minScale = mus.scale.MinorScale(final_minor_key)\n",
    "\n",
    "minorDict = {}\n",
    "majorDict = {}\n",
    "\n",
    "degOccurrence = countDegrees(shortPitchList0, minorDict, majorDict, p0key.mode , majScale, minScale)\n",
    "degOccurrence"
   ]
  },
  {
   "cell_type": "code",
   "execution_count": 105,
   "metadata": {
    "collapsed": false
   },
   "outputs": [
    {
     "data": {
      "text/plain": [
       "[{1: 40, 2: 34, 3: 52, 4: 8, 5: 14, 6: 6, 7: 14},\n",
       " {1: 70, 2: 32, 3: 70, 4: 26, 5: 48, 6: 6, 7: 12}]"
      ]
     },
     "execution_count": 105,
     "metadata": {},
     "output_type": "execute_result"
    }
   ],
   "source": [
    "degOccurrence2 = countDegrees(shortPitchList1, minorDict, majorDict, p1key.mode , majScale, minScale)\n",
    "degOccurrence2"
   ]
  },
  {
   "cell_type": "markdown",
   "metadata": {},
   "source": [
    "### Set of pieces/ corpus"
   ]
  },
  {
   "cell_type": "code",
   "execution_count": 122,
   "metadata": {
    "collapsed": false
   },
   "outputs": [],
   "source": [
    "for pieceNo in range(0,len(pieceList)):\n",
    "    \n",
    "    melody = pieceList[pieceNo]#.expandRepeats()\n",
    "    #melody = melody.flat\n",
    "    \n",
    "    melodyKey = melody.analyze('key')\n",
    "    \n",
    "    melodyTranspose = transposeMelody(melody, melodyKey, final_major_key, final_minor_key)\n",
    "    \n",
    "    pitchList = melodyTranspose.pitches\n",
    "    shortPitchList = [str(p) for p in pitchList]\n",
    "    \n",
    "    [majorDict, minorDict] = countDegrees(shortPitchList, minorDict, majorDict, melodyKey.mode, majScale, minScale)\n",
    "    "
   ]
  },
  {
   "cell_type": "code",
   "execution_count": 123,
   "metadata": {
    "collapsed": false
   },
   "outputs": [
    {
     "data": {
      "text/plain": [
       "{1: 21849, 2: 14143, 3: 18362, 4: 9635, 5: 17099, 6: 8187, 7: 5608, None: 675}"
      ]
     },
     "execution_count": 123,
     "metadata": {},
     "output_type": "execute_result"
    }
   ],
   "source": [
    "majorDict"
   ]
  },
  {
   "cell_type": "code",
   "execution_count": 124,
   "metadata": {
    "collapsed": false
   },
   "outputs": [
    {
     "data": {
      "text/plain": [
       "{1: 4816, 2: 2651, 3: 5226, 4: 4180, 5: 4364, 6: 732, 7: 3093, None: 525}"
      ]
     },
     "execution_count": 124,
     "metadata": {},
     "output_type": "execute_result"
    }
   ],
   "source": [
    "minorDict"
   ]
  },
  {
   "cell_type": "markdown",
   "metadata": {},
   "source": [
    "# To Do\n",
    "* Clean up code\n",
    "* Make this a function with clear input and ooutput\n",
    "* Make the dictionaries importable to other files\n",
    "* Figure out how these frequencies of occurence correspond to probabilities\n",
    "* Figure out what I want to do with rests/no pitch\n",
    "* Understand why expandRepeats and flattened melody don't work\n",
    "* Use the dictionary as input into something else!!! \n",
    "* Figure out how bins work\n",
    "* Can we do anythin"
   ]
  }
 ],
 "metadata": {
  "kernelspec": {
   "display_name": "Python 3",
   "language": "python",
   "name": "python3"
  },
  "language_info": {
   "codemirror_mode": {
    "name": "ipython",
    "version": 3
   },
   "file_extension": ".py",
   "mimetype": "text/x-python",
   "name": "python",
   "nbconvert_exporter": "python",
   "pygments_lexer": "ipython3",
   "version": "3.5.3"
  }
 },
 "nbformat": 4,
 "nbformat_minor": 0
}
